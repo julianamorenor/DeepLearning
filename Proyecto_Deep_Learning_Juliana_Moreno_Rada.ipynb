{
  "cells": [
    {
      "cell_type": "markdown",
      "metadata": {
        "id": "view-in-github",
        "colab_type": "text"
      },
      "source": [
        "<a href=\"https://colab.research.google.com/github/julianamorenor/DeepLearning/blob/main/Proyecto_Deep_Learning_Juliana_Moreno_Rada.ipynb\" target=\"_parent\"><img src=\"https://colab.research.google.com/assets/colab-badge.svg\" alt=\"Open In Colab\"/></a>"
      ]
    },
    {
      "cell_type": "markdown",
      "metadata": {
        "id": "cXIvwgOf_13v"
      },
      "source": [
        "##**Proyecto Final: Fundamentos de Deep Leaning**\n",
        "\n",
        "###**Detección de demencia a partir de imágenes de resonancia magnética**"
      ]
    },
    {
      "cell_type": "markdown",
      "metadata": {
        "id": "rJArkM_MAITz"
      },
      "source": [
        "En este proyecto se hará uso de imágenes de un dataset obtenido en Kaggle para hacer una clasificación de imagenes de resonancia e identificar si la imagen corresponde a un cerebro de una persona con demencia avanzada, o una persona sana."
      ]
    },
    {
      "cell_type": "code",
      "execution_count": null,
      "metadata": {
        "id": "nRELCi0ersVx"
      },
      "outputs": [],
      "source": [
        "import os\n",
        "import zipfile\n",
        "import numpy as np\n",
        "import tensorflow as tf\n",
        "import pandas as pd\n",
        "import matplotlib.pyplot as plt\n",
        "from tensorflow.keras import regularizers\n",
        "from sklearn.model_selection import train_test_split\n",
        "from sklearn.model_selection import KFold\n",
        "from sklearn.metrics import classification_report\n",
        "import cv2\n",
        "import seaborn as sns\n",
        "from tensorflow.keras.preprocessing.image import ImageDataGenerator\n",
        "import shutil\n",
        "from sklearn.metrics import confusion_matrix\n",
        "import random\n"
      ]
    },
    {
      "cell_type": "markdown",
      "metadata": {
        "id": "sdPadRL_AESZ"
      },
      "source": [
        "Instalamos las dependencias"
      ]
    },
    {
      "cell_type": "code",
      "execution_count": null,
      "metadata": {
        "colab": {
          "base_uri": "https://localhost:8080/"
        },
        "id": "u_4eCN2ifNPn",
        "outputId": "1c7db741-cf0f-4a80-a696-4879a0ad30cd"
      },
      "outputs": [
        {
          "output_type": "stream",
          "name": "stdout",
          "text": [
            "Looking in indexes: https://pypi.org/simple, https://us-python.pkg.dev/colab-wheels/public/simple/\n",
            "Collecting wget\n",
            "  Downloading wget-3.2.zip (10 kB)\n",
            "  Preparing metadata (setup.py) ... \u001b[?25l\u001b[?25hdone\n",
            "Building wheels for collected packages: wget\n",
            "  Building wheel for wget (setup.py) ... \u001b[?25l\u001b[?25hdone\n",
            "  Created wheel for wget: filename=wget-3.2-py3-none-any.whl size=9657 sha256=077d804149506c297ffca3986a237eeb79ee182f12c860a41ef51bb7fe0289b7\n",
            "  Stored in directory: /root/.cache/pip/wheels/8b/f1/7f/5c94f0a7a505ca1c81cd1d9208ae2064675d97582078e6c769\n",
            "Successfully built wget\n",
            "Installing collected packages: wget\n",
            "Successfully installed wget-3.2\n",
            "Looking in indexes: https://pypi.org/simple, https://us-python.pkg.dev/colab-wheels/public/simple/\n",
            "\u001b[31mERROR: Could not find a version that satisfies the requirement zipfile (from versions: none)\u001b[0m\u001b[31m\n",
            "\u001b[0m\u001b[31mERROR: No matching distribution found for zipfile\u001b[0m\u001b[31m\n",
            "\u001b[0mLooking in indexes: https://pypi.org/simple, https://us-python.pkg.dev/colab-wheels/public/simple/\n",
            "Requirement already satisfied: kaggle in /usr/local/lib/python3.10/dist-packages (1.5.13)\n",
            "Requirement already satisfied: six>=1.10 in /usr/local/lib/python3.10/dist-packages (from kaggle) (1.16.0)\n",
            "Requirement already satisfied: certifi in /usr/local/lib/python3.10/dist-packages (from kaggle) (2022.12.7)\n",
            "Requirement already satisfied: python-dateutil in /usr/local/lib/python3.10/dist-packages (from kaggle) (2.8.2)\n",
            "Requirement already satisfied: requests in /usr/local/lib/python3.10/dist-packages (from kaggle) (2.27.1)\n",
            "Requirement already satisfied: tqdm in /usr/local/lib/python3.10/dist-packages (from kaggle) (4.65.0)\n",
            "Requirement already satisfied: python-slugify in /usr/local/lib/python3.10/dist-packages (from kaggle) (8.0.1)\n",
            "Requirement already satisfied: urllib3 in /usr/local/lib/python3.10/dist-packages (from kaggle) (1.26.15)\n",
            "Requirement already satisfied: text-unidecode>=1.3 in /usr/local/lib/python3.10/dist-packages (from python-slugify->kaggle) (1.3)\n",
            "Requirement already satisfied: charset-normalizer~=2.0.0 in /usr/local/lib/python3.10/dist-packages (from requests->kaggle) (2.0.12)\n",
            "Requirement already satisfied: idna<4,>=2.5 in /usr/local/lib/python3.10/dist-packages (from requests->kaggle) (3.4)\n"
          ]
        }
      ],
      "source": [
        "!pip install wget\n",
        "!pip install zipfile\n",
        "!pip install kaggle"
      ]
    },
    {
      "cell_type": "markdown",
      "metadata": {
        "id": "nnWavy9XAnd5"
      },
      "source": [
        "Para poder traer los datos del repositorio, debemos cargar el \"api token\" que permite hacer uso de las imágenes"
      ]
    },
    {
      "cell_type": "code",
      "execution_count": null,
      "metadata": {
        "colab": {
          "base_uri": "https://localhost:8080/",
          "height": 91
        },
        "id": "hD3N_GSgmRCD",
        "outputId": "fd298770-13d4-4d96-c6ab-dd83ae6523c1"
      },
      "outputs": [
        {
          "output_type": "display_data",
          "data": {
            "text/plain": [
              "<IPython.core.display.HTML object>"
            ],
            "text/html": [
              "\n",
              "     <input type=\"file\" id=\"files-788397bc-e1d4-4c31-b727-416cca492347\" name=\"files[]\" multiple disabled\n",
              "        style=\"border:none\" />\n",
              "     <output id=\"result-788397bc-e1d4-4c31-b727-416cca492347\">\n",
              "      Upload widget is only available when the cell has been executed in the\n",
              "      current browser session. Please rerun this cell to enable.\n",
              "      </output>\n",
              "      <script>// Copyright 2017 Google LLC\n",
              "//\n",
              "// Licensed under the Apache License, Version 2.0 (the \"License\");\n",
              "// you may not use this file except in compliance with the License.\n",
              "// You may obtain a copy of the License at\n",
              "//\n",
              "//      http://www.apache.org/licenses/LICENSE-2.0\n",
              "//\n",
              "// Unless required by applicable law or agreed to in writing, software\n",
              "// distributed under the License is distributed on an \"AS IS\" BASIS,\n",
              "// WITHOUT WARRANTIES OR CONDITIONS OF ANY KIND, either express or implied.\n",
              "// See the License for the specific language governing permissions and\n",
              "// limitations under the License.\n",
              "\n",
              "/**\n",
              " * @fileoverview Helpers for google.colab Python module.\n",
              " */\n",
              "(function(scope) {\n",
              "function span(text, styleAttributes = {}) {\n",
              "  const element = document.createElement('span');\n",
              "  element.textContent = text;\n",
              "  for (const key of Object.keys(styleAttributes)) {\n",
              "    element.style[key] = styleAttributes[key];\n",
              "  }\n",
              "  return element;\n",
              "}\n",
              "\n",
              "// Max number of bytes which will be uploaded at a time.\n",
              "const MAX_PAYLOAD_SIZE = 100 * 1024;\n",
              "\n",
              "function _uploadFiles(inputId, outputId) {\n",
              "  const steps = uploadFilesStep(inputId, outputId);\n",
              "  const outputElement = document.getElementById(outputId);\n",
              "  // Cache steps on the outputElement to make it available for the next call\n",
              "  // to uploadFilesContinue from Python.\n",
              "  outputElement.steps = steps;\n",
              "\n",
              "  return _uploadFilesContinue(outputId);\n",
              "}\n",
              "\n",
              "// This is roughly an async generator (not supported in the browser yet),\n",
              "// where there are multiple asynchronous steps and the Python side is going\n",
              "// to poll for completion of each step.\n",
              "// This uses a Promise to block the python side on completion of each step,\n",
              "// then passes the result of the previous step as the input to the next step.\n",
              "function _uploadFilesContinue(outputId) {\n",
              "  const outputElement = document.getElementById(outputId);\n",
              "  const steps = outputElement.steps;\n",
              "\n",
              "  const next = steps.next(outputElement.lastPromiseValue);\n",
              "  return Promise.resolve(next.value.promise).then((value) => {\n",
              "    // Cache the last promise value to make it available to the next\n",
              "    // step of the generator.\n",
              "    outputElement.lastPromiseValue = value;\n",
              "    return next.value.response;\n",
              "  });\n",
              "}\n",
              "\n",
              "/**\n",
              " * Generator function which is called between each async step of the upload\n",
              " * process.\n",
              " * @param {string} inputId Element ID of the input file picker element.\n",
              " * @param {string} outputId Element ID of the output display.\n",
              " * @return {!Iterable<!Object>} Iterable of next steps.\n",
              " */\n",
              "function* uploadFilesStep(inputId, outputId) {\n",
              "  const inputElement = document.getElementById(inputId);\n",
              "  inputElement.disabled = false;\n",
              "\n",
              "  const outputElement = document.getElementById(outputId);\n",
              "  outputElement.innerHTML = '';\n",
              "\n",
              "  const pickedPromise = new Promise((resolve) => {\n",
              "    inputElement.addEventListener('change', (e) => {\n",
              "      resolve(e.target.files);\n",
              "    });\n",
              "  });\n",
              "\n",
              "  const cancel = document.createElement('button');\n",
              "  inputElement.parentElement.appendChild(cancel);\n",
              "  cancel.textContent = 'Cancel upload';\n",
              "  const cancelPromise = new Promise((resolve) => {\n",
              "    cancel.onclick = () => {\n",
              "      resolve(null);\n",
              "    };\n",
              "  });\n",
              "\n",
              "  // Wait for the user to pick the files.\n",
              "  const files = yield {\n",
              "    promise: Promise.race([pickedPromise, cancelPromise]),\n",
              "    response: {\n",
              "      action: 'starting',\n",
              "    }\n",
              "  };\n",
              "\n",
              "  cancel.remove();\n",
              "\n",
              "  // Disable the input element since further picks are not allowed.\n",
              "  inputElement.disabled = true;\n",
              "\n",
              "  if (!files) {\n",
              "    return {\n",
              "      response: {\n",
              "        action: 'complete',\n",
              "      }\n",
              "    };\n",
              "  }\n",
              "\n",
              "  for (const file of files) {\n",
              "    const li = document.createElement('li');\n",
              "    li.append(span(file.name, {fontWeight: 'bold'}));\n",
              "    li.append(span(\n",
              "        `(${file.type || 'n/a'}) - ${file.size} bytes, ` +\n",
              "        `last modified: ${\n",
              "            file.lastModifiedDate ? file.lastModifiedDate.toLocaleDateString() :\n",
              "                                    'n/a'} - `));\n",
              "    const percent = span('0% done');\n",
              "    li.appendChild(percent);\n",
              "\n",
              "    outputElement.appendChild(li);\n",
              "\n",
              "    const fileDataPromise = new Promise((resolve) => {\n",
              "      const reader = new FileReader();\n",
              "      reader.onload = (e) => {\n",
              "        resolve(e.target.result);\n",
              "      };\n",
              "      reader.readAsArrayBuffer(file);\n",
              "    });\n",
              "    // Wait for the data to be ready.\n",
              "    let fileData = yield {\n",
              "      promise: fileDataPromise,\n",
              "      response: {\n",
              "        action: 'continue',\n",
              "      }\n",
              "    };\n",
              "\n",
              "    // Use a chunked sending to avoid message size limits. See b/62115660.\n",
              "    let position = 0;\n",
              "    do {\n",
              "      const length = Math.min(fileData.byteLength - position, MAX_PAYLOAD_SIZE);\n",
              "      const chunk = new Uint8Array(fileData, position, length);\n",
              "      position += length;\n",
              "\n",
              "      const base64 = btoa(String.fromCharCode.apply(null, chunk));\n",
              "      yield {\n",
              "        response: {\n",
              "          action: 'append',\n",
              "          file: file.name,\n",
              "          data: base64,\n",
              "        },\n",
              "      };\n",
              "\n",
              "      let percentDone = fileData.byteLength === 0 ?\n",
              "          100 :\n",
              "          Math.round((position / fileData.byteLength) * 100);\n",
              "      percent.textContent = `${percentDone}% done`;\n",
              "\n",
              "    } while (position < fileData.byteLength);\n",
              "  }\n",
              "\n",
              "  // All done.\n",
              "  yield {\n",
              "    response: {\n",
              "      action: 'complete',\n",
              "    }\n",
              "  };\n",
              "}\n",
              "\n",
              "scope.google = scope.google || {};\n",
              "scope.google.colab = scope.google.colab || {};\n",
              "scope.google.colab._files = {\n",
              "  _uploadFiles,\n",
              "  _uploadFilesContinue,\n",
              "};\n",
              "})(self);\n",
              "</script> "
            ]
          },
          "metadata": {}
        },
        {
          "output_type": "stream",
          "name": "stdout",
          "text": [
            "Saving kaggle.json to kaggle.json\n"
          ]
        },
        {
          "output_type": "execute_result",
          "data": {
            "text/plain": [
              "{'kaggle.json': b'{\"username\":\"julianamorenorada\",\"key\":\"ddf6371030832c0668e137cb63e002a0\"}'}"
            ]
          },
          "metadata": {},
          "execution_count": 22
        }
      ],
      "source": [
        "from google.colab import files\n",
        "\n",
        "# Carga el archivo kaggle.json desde tu máquina local\n",
        "files.upload()"
      ]
    },
    {
      "cell_type": "markdown",
      "metadata": {
        "id": "Gb9tSvw2AynB"
      },
      "source": [
        "### **Selección de datos, preprocesado y definición de conjuntos de entrenamiento y prueba**"
      ]
    },
    {
      "cell_type": "code",
      "execution_count": null,
      "metadata": {
        "id": "e5vrPlxWo4zK"
      },
      "outputs": [],
      "source": [
        "!mkdir -p ~/.kaggle\n",
        "!mv kaggle.json ~/.kaggle/"
      ]
    },
    {
      "cell_type": "code",
      "execution_count": null,
      "metadata": {
        "colab": {
          "base_uri": "https://localhost:8080/"
        },
        "id": "Q2RlZzHJpNV4",
        "outputId": "ad755df8-f53d-4cf6-f7b5-79a3525060cb"
      },
      "outputs": [
        {
          "output_type": "stream",
          "name": "stdout",
          "text": [
            "Warning: Your Kaggle API key is readable by other users on this system! To fix this, you can run 'chmod 600 /root/.kaggle/kaggle.json'\n",
            "augmented-alzheimer-mri-dataset.zip: Skipping, found more recently modified local copy (use --force to force download)\n"
          ]
        }
      ],
      "source": [
        "!kaggle datasets download -d uraninjo/augmented-alzheimer-mri-dataset"
      ]
    },
    {
      "cell_type": "code",
      "execution_count": null,
      "metadata": {
        "id": "7SANofyNpWx5"
      },
      "outputs": [],
      "source": [
        "dataset_path = '/content/augmented-alzheimer-mri-dataset.zip'\n",
        "extract_path = '/content/data'\n",
        "\n",
        "with zipfile.ZipFile(dataset_path, 'r') as zip_ref:\n",
        "    zip_ref.extractall(extract_path)"
      ]
    },
    {
      "cell_type": "markdown",
      "metadata": {
        "id": "cy_seMzkBItB"
      },
      "source": [
        "Se definen los parámetros para generación de los conjuntos de prueba y validación"
      ]
    },
    {
      "cell_type": "code",
      "execution_count": null,
      "metadata": {
        "id": "AoiH5g7qe25t"
      },
      "outputs": [],
      "source": [
        "data_dir = '/content/data/OriginalDataset'\n",
        "image_size = (64, 64)  # se ajusta el tamaño de imagen\n",
        "batch_size = 1024\n",
        "#classes = ['MildDemented', 'ModerateDemented','NonDemented','VeryMildDemented']\n",
        "classes = ['NonDemented','VeryMildDemented']"
      ]
    },
    {
      "cell_type": "markdown",
      "metadata": {
        "id": "n2bYO2nOBPvI"
      },
      "source": [
        "Se crean los directorios"
      ]
    },
    {
      "cell_type": "code",
      "execution_count": null,
      "metadata": {
        "id": "pwRo7gf81S5b"
      },
      "outputs": [],
      "source": [
        "train_dir = '/content/data/OriginalDataset/train'\n",
        "test_dir = '/content/data/OriginalDataset/test'\n",
        "# Crear directorios de entrenamiento y prueba\n",
        "os.makedirs(train_dir, exist_ok=True)\n",
        "os.makedirs(test_dir, exist_ok=True)"
      ]
    },
    {
      "cell_type": "code",
      "execution_count": null,
      "metadata": {
        "id": "fQtlZypAFovF"
      },
      "outputs": [],
      "source": [
        "# Crear directorios de entrenamiento y prueba para cada clase\n",
        "for class_name in classes:\n",
        "    os.makedirs(os.path.join(train_dir, class_name), exist_ok=True)\n",
        "    os.makedirs(os.path.join(test_dir, class_name), exist_ok=True)"
      ]
    },
    {
      "cell_type": "markdown",
      "metadata": {
        "id": "vw4LPLmXBUPP"
      },
      "source": [
        "Se hace la separación de imágenes"
      ]
    },
    {
      "cell_type": "code",
      "execution_count": null,
      "metadata": {
        "id": "xPOSfS-hBQTk"
      },
      "outputs": [],
      "source": [
        "# Mover imágenes a los directorios correspondientes\n",
        "for class_name in classes:\n",
        "    class_dir = os.path.join(data_dir, class_name)\n",
        "    image_files = os.listdir(class_dir)\n",
        "    train_files, test_files = train_test_split(image_files, test_size=0.2, random_state=42)\n",
        "\n",
        "    for image_file in train_files:\n",
        "        src_path = os.path.join(class_dir, image_file)\n",
        "        dst_path = os.path.join(train_dir, class_name, image_file)\n",
        "        shutil.move(src_path, dst_path)\n",
        "\n",
        "    for image_file in test_files:\n",
        "        src_path = os.path.join(class_dir, image_file)\n",
        "        dst_path = os.path.join(test_dir, class_name, image_file)\n",
        "        shutil.move(src_path, dst_path)"
      ]
    },
    {
      "cell_type": "code",
      "execution_count": null,
      "metadata": {
        "id": "N6abBlwZt0lP"
      },
      "outputs": [],
      "source": [
        "datagen = ImageDataGenerator(rescale=1.0/255.0)  # Se instacia un clase generadora de imagenes y se normalizan de los valores de píxeles\n",
        "#datagen =ImageDataGenerator(rescale=1.0/255.0, color_mode='grayscale')"
      ]
    },
    {
      "cell_type": "markdown",
      "metadata": {
        "id": "6YElnRPyBZOp"
      },
      "source": [
        "Se generan los conjuntos de prueba y entrenamiento"
      ]
    },
    {
      "cell_type": "code",
      "execution_count": null,
      "metadata": {
        "colab": {
          "base_uri": "https://localhost:8080/"
        },
        "id": "J8I720pt1SR8",
        "outputId": "fecc420c-adc3-4307-9d69-1bcd72e05bd3"
      },
      "outputs": [
        {
          "output_type": "stream",
          "name": "stdout",
          "text": [
            "Found 4352 images belonging to 2 classes.\n"
          ]
        }
      ],
      "source": [
        "# Generar conjuntos de entrenamiento\n",
        "train_generator = datagen.flow_from_directory(\n",
        "    train_dir,\n",
        "    target_size=image_size,\n",
        "    batch_size=batch_size,\n",
        "    class_mode='categorical',\n",
        "    #color_mode='grayscale',\n",
        "    shuffle=True\n",
        ")"
      ]
    },
    {
      "cell_type": "code",
      "execution_count": null,
      "metadata": {
        "colab": {
          "base_uri": "https://localhost:8080/"
        },
        "id": "cGSqZKvtxcqV",
        "outputId": "560090a7-fea0-4bbd-d88f-546831ac9b82"
      },
      "outputs": [
        {
          "output_type": "stream",
          "name": "stdout",
          "text": [
            "Found 1088 images belonging to 2 classes.\n"
          ]
        }
      ],
      "source": [
        "# Generar conjuntos de prueba\n",
        "test_generator = datagen.flow_from_directory(\n",
        "    test_dir,\n",
        "    target_size=image_size,\n",
        "    batch_size=batch_size,\n",
        "    class_mode='categorical',\n",
        "    #color_mode='grayscale',\n",
        "    shuffle=False\n",
        ")"
      ]
    },
    {
      "cell_type": "code",
      "source": [
        "plt.figure(figsize=(5, 5))\n",
        "for images, labels in train_generator:\n",
        "    for i in range(4):\n",
        "        ax = plt.subplot(2, 2, i + 1)\n",
        "        plt.imshow(images[i])\n",
        "        plt.title(classes[np.argmax(labels[i])])\n",
        "        plt.axis(\"off\")\n",
        "    break"
      ],
      "metadata": {
        "colab": {
          "base_uri": "https://localhost:8080/",
          "height": 444
        },
        "id": "mC1shcY3qfyh",
        "outputId": "a4ad5954-64d1-4f8c-c0f4-f1d4fbaf68c7"
      },
      "execution_count": null,
      "outputs": [
        {
          "output_type": "display_data",
          "data": {
            "text/plain": [
              "<Figure size 500x500 with 4 Axes>"
            ],
            "image/png": "[encoded data removed]"
          },
          "metadata": {}
        }
      ]
    },
    {
      "cell_type": "markdown",
      "metadata": {
        "id": "Lc3RXLOsK1Iw"
      },
      "source": [
        "## **Diseño del modelo**"
      ]
    },
    {
      "cell_type": "code",
      "execution_count": null,
      "metadata": {
        "colab": {
          "base_uri": "https://localhost:8080/"
        },
        "id": "wfIQDTwhK7BE",
        "outputId": "e359245e-792a-4b48-f003-534e21ffb796"
      },
      "outputs": [
        {
          "output_type": "execute_result",
          "data": {
            "text/plain": [
              "{'NonDemented': 2560, 'VeryMildDemented': 1792}"
            ]
          },
          "metadata": {},
          "execution_count": 34
        }
      ],
      "source": [
        "#Conteo de imágenes de cada clase para entrenamiento\n",
        "class_counts = dict()\n",
        "for folder in classes:\n",
        "    class_counts[folder] = len(os.listdir(train_dir+'/'+folder))\n",
        "\n",
        "class_counts"
      ]
    },
    {
      "cell_type": "code",
      "execution_count": null,
      "metadata": {
        "colab": {
          "base_uri": "https://localhost:8080/"
        },
        "id": "-V6OFGafMoMV",
        "outputId": "30ab5784-1a38-4c60-9fa4-129ccf5a6578"
      },
      "outputs": [
        {
          "output_type": "execute_result",
          "data": {
            "text/plain": [
              "{'NonDemented': 640, 'VeryMildDemented': 448}"
            ]
          },
          "metadata": {},
          "execution_count": 35
        }
      ],
      "source": [
        "#Conteo de imágenes de cada clase para prueba\n",
        "class_counts = dict()\n",
        "for folder in classes:\n",
        "    class_counts[folder] = len(os.listdir(test_dir+'/'+folder))\n",
        "\n",
        "class_counts"
      ]
    },
    {
      "cell_type": "code",
      "execution_count": null,
      "metadata": {
        "colab": {
          "base_uri": "https://localhost:8080/"
        },
        "id": "H_H2IPaS-_3Z",
        "outputId": "c337a600-be54-4eb0-8951-45930be32fbc"
      },
      "outputs": [
        {
          "output_type": "execute_result",
          "data": {
            "text/plain": [
              "{'NonDemented': 0, 'VeryMildDemented': 1}"
            ]
          },
          "metadata": {},
          "execution_count": 36
        }
      ],
      "source": [
        "labels = train_generator.class_indices\n",
        "labels"
      ]
    },
    {
      "cell_type": "code",
      "execution_count": null,
      "metadata": {
        "colab": {
          "base_uri": "https://localhost:8080/"
        },
        "id": "mTM-tW80bHZw",
        "outputId": "5559b398-7b2e-4a9d-a940-b04049d09d08"
      },
      "outputs": [
        {
          "output_type": "stream",
          "name": "stdout",
          "text": [
            "Forma de los datos de entrada: (1024, 64, 64, 3)\n",
            "Forma de las etiquetas: (1024, 2)\n"
          ]
        }
      ],
      "source": [
        "x, y = train_generator.next()\n",
        "print(\"Forma de los datos de entrada:\", x.shape)\n",
        "print(\"Forma de las etiquetas:\", y.shape)"
      ]
    },
    {
      "cell_type": "code",
      "source": [
        "y[0] #one hot ecoder"
      ],
      "metadata": {
        "colab": {
          "base_uri": "https://localhost:8080/"
        },
        "id": "sn_sgUhxQEBv",
        "outputId": "42ebbfd8-3050-467d-f13d-a3dc6e550534"
      },
      "execution_count": null,
      "outputs": [
        {
          "output_type": "execute_result",
          "data": {
            "text/plain": [
              "array([1., 0.], dtype=float32)"
            ]
          },
          "metadata": {},
          "execution_count": 38
        }
      ]
    },
    {
      "cell_type": "code",
      "execution_count": null,
      "metadata": {
        "id": "Fu2E5O96jZ-O"
      },
      "outputs": [],
      "source": [
        "from tensorflow.keras.applications import ResNet50"
      ]
    },
    {
      "cell_type": "code",
      "execution_count": null,
      "metadata": {
        "id": "7IsHhpIXjgst",
        "colab": {
          "base_uri": "https://localhost:8080/"
        },
        "outputId": "4ae2dc9c-464e-4439-e798-445a88aa33f4"
      },
      "outputs": [
        {
          "output_type": "stream",
          "name": "stdout",
          "text": [
            "Downloading data from https://storage.googleapis.com/tensorflow/keras-applications/resnet/resnet50_weights_tf_dim_ordering_tf_kernels_notop.h5\n",
            "94765736/94765736 [==============================] - 0s 0us/step\n"
          ]
        }
      ],
      "source": [
        "base_model = ResNet50(weights='imagenet', include_top=False, input_shape=(64, 64, 3))"
      ]
    },
    {
      "cell_type": "code",
      "execution_count": null,
      "metadata": {
        "id": "O5w8DflgkMMP"
      },
      "outputs": [],
      "source": [
        "for layer in base_model.layers:\n",
        "    layer.trainable = False"
      ]
    },
    {
      "cell_type": "code",
      "execution_count": null,
      "metadata": {
        "id": "SdAqTv21kRGm"
      },
      "outputs": [],
      "source": [
        "from tensorflow.keras import models, layers"
      ]
    },
    {
      "cell_type": "code",
      "execution_count": null,
      "metadata": {
        "id": "7Ch9VlCmkQEN"
      },
      "outputs": [],
      "source": [
        "#model = models.Sequential()\n",
        "#model.add(base_model)\n",
        "#model.add(layers.Flatten())\n",
        "#model.add(layers.Dense(64, activation='relu'))\n",
        "#model.add(layers.Dense(2, activation='softmax'))\n",
        "#opt = tf.keras.optimizers.Adam(learning_rate=0.1)\n",
        "#model.compile(optimizer=opt, loss='categorical_crossentropy', metrics=['accuracy'])"
      ]
    },
    {
      "cell_type": "code",
      "source": [
        "model1 = models.Sequential()\n",
        "model1.add(base_model)\n",
        "model1.add(layers.Flatten())\n",
        "#model.add(layers.Dense(64, activation='relu'))\n",
        "model1.add(layers.Dense(2, activation='softmax'))\n",
        "opt = tf.keras.optimizers.Adam(learning_rate=0.1)\n",
        "model1.compile(optimizer=opt, loss='categorical_crossentropy', metrics=['accuracy'])"
      ],
      "metadata": {
        "id": "6V47fTmWuHFW"
      },
      "execution_count": null,
      "outputs": []
    },
    {
      "cell_type": "code",
      "execution_count": null,
      "metadata": {
        "colab": {
          "base_uri": "https://localhost:8080/"
        },
        "id": "nCJB8HgCtjfL",
        "outputId": "307886d9-87ae-4385-bdfd-a6cb1b0b01d0"
      },
      "outputs": [
        {
          "output_type": "stream",
          "name": "stdout",
          "text": [
            "Model: \"sequential\"\n",
            "_________________________________________________________________\n",
            " Layer (type)                Output Shape              Param #   \n",
            "=================================================================\n",
            " resnet50 (Functional)       (None, 2, 2, 2048)        23587712  \n",
            "                                                                 \n",
            " flatten (Flatten)           (None, 8192)              0         \n",
            "                                                                 \n",
            " dense (Dense)               (None, 2)                 16386     \n",
            "                                                                 \n",
            "=================================================================\n",
            "Total params: 23,604,098\n",
            "Trainable params: 16,386\n",
            "Non-trainable params: 23,587,712\n",
            "_________________________________________________________________\n"
          ]
        }
      ],
      "source": [
        "model1.summary()"
      ]
    },
    {
      "cell_type": "code",
      "source": [
        "model1.fit(train_generator,batch_size=1024, epochs=10,validation_data=test_generator)\n",
        "# Evaluar el modelo en el conjunto de prueba\n",
        "loss, accuracy = model1.evaluate(test_generator)"
      ],
      "metadata": {
        "id": "k4DDIBNnRlL1"
      },
      "execution_count": null,
      "outputs": []
    },
    {
      "cell_type": "code",
      "execution_count": null,
      "metadata": {
        "colab": {
          "base_uri": "https://localhost:8080/"
        },
        "id": "tPbOeVlrt03n",
        "outputId": "a3aeeee1-1be3-48aa-c8e8-cd1b7cfa0f6e"
      },
      "outputs": [
        {
          "name": "stdout",
          "output_type": "stream",
          "text": [
            "Epoch 1/10\n",
            "14/14 [==============================] - 367s 26s/step - loss: 10.3605 - accuracy: 0.5100 - val_loss: 4.7046 - val_accuracy: 0.4838\n",
            "Epoch 2/10\n",
            "14/14 [==============================] - 397s 29s/step - loss: 3.2171 - accuracy: 0.5171 - val_loss: 1.2979 - val_accuracy: 0.6000\n",
            "Epoch 3/10\n",
            "14/14 [==============================] - 406s 30s/step - loss: 1.5079 - accuracy: 0.5776 - val_loss: 1.2826 - val_accuracy: 0.5575\n",
            "Epoch 4/10\n",
            "14/14 [==============================] - 411s 30s/step - loss: 1.0967 - accuracy: 0.5749 - val_loss: 0.6802 - val_accuracy: 0.6444\n",
            "Epoch 5/10\n",
            "14/14 [==============================] - 399s 29s/step - loss: 0.8034 - accuracy: 0.6033 - val_loss: 0.6536 - val_accuracy: 0.6345\n",
            "Epoch 6/10\n",
            "14/14 [==============================] - 401s 29s/step - loss: 0.7019 - accuracy: 0.6159 - val_loss: 0.6791 - val_accuracy: 0.6071\n",
            "Epoch 7/10\n",
            "14/14 [==============================] - 402s 29s/step - loss: 0.7578 - accuracy: 0.5967 - val_loss: 0.6619 - val_accuracy: 0.6168\n",
            "Epoch 8/10\n",
            "14/14 [==============================] - 400s 29s/step - loss: 0.7588 - accuracy: 0.6017 - val_loss: 0.7298 - val_accuracy: 0.5856\n",
            "Epoch 9/10\n",
            "14/14 [==============================] - 402s 29s/step - loss: 0.8414 - accuracy: 0.5676 - val_loss: 0.8034 - val_accuracy: 0.5692\n",
            "Epoch 10/10\n",
            "14/14 [==============================] - 402s 29s/step - loss: 0.8509 - accuracy: 0.5894 - val_loss: 0.7208 - val_accuracy: 0.6231\n",
            "5/5 [==============================] - 85s 16s/step - loss: 0.7208 - accuracy: 0.6231\n"
          ]
        }
      ],
      "source": [
        "model.fit(train_generator,batch_size=1024, epochs=10,validation_data=test_generator)\n",
        "# Evaluar el modelo en el conjunto de prueba\n",
        "loss, accuracy = model.evaluate(test_generator)"
      ]
    },
    {
      "cell_type": "code",
      "execution_count": null,
      "metadata": {
        "colab": {
          "base_uri": "https://localhost:8080/"
        },
        "id": "zQ0nxLigzKHo",
        "outputId": "a4d36961-a8ef-4339-caca-3991bf29ed33"
      },
      "outputs": [
        {
          "name": "stdout",
          "output_type": "stream",
          "text": [
            "5/5 [==============================] - 88s 17s/step\n"
          ]
        }
      ],
      "source": [
        "pred = model.predict(test_generator)"
      ]
    },
    {
      "cell_type": "code",
      "execution_count": null,
      "metadata": {
        "id": "H6p9CK8X1p4K"
      },
      "outputs": [],
      "source": [
        "y_true = test_generator.labels\n",
        "y_pred_labels = np.argmax(pred, axis=1)"
      ]
    },
    {
      "cell_type": "code",
      "execution_count": null,
      "metadata": {
        "colab": {
          "base_uri": "https://localhost:8080/"
        },
        "id": "Xtf9JWsh0QWZ",
        "outputId": "f27f6c6c-1ff1-4ef7-eed1-76460b1dad90"
      },
      "outputs": [
        {
          "name": "stdout",
          "output_type": "stream",
          "text": [
            "              precision    recall  f1-score   support\n",
            "\n",
            "           0       0.80      0.36      0.50      2400\n",
            "           1       0.57      0.90      0.70      2240\n",
            "\n",
            "    accuracy                           0.62      4640\n",
            "   macro avg       0.69      0.63      0.60      4640\n",
            "weighted avg       0.69      0.62      0.59      4640\n",
            "\n"
          ]
        }
      ],
      "source": [
        "report = classification_report(y_true, y_pred_labels)\n",
        "print(report)"
      ]
    },
    {
      "cell_type": "code",
      "execution_count": null,
      "metadata": {
        "id": "jy286iOJ9wAv"
      },
      "outputs": [],
      "source": [
        "from tensorflow.keras.models import Sequential\n",
        "from tensorflow.keras.layers import Conv2D, MaxPooling2D, Flatten, Dense,Dropout"
      ]
    },
    {
      "cell_type": "code",
      "execution_count": null,
      "metadata": {
        "id": "gGlRIrpXMSsi"
      },
      "outputs": [],
      "source": [
        "def get_conv_model(data_size, compile=True):\n",
        "  inputs = tf.keras.Input(shape=data_size, name=\"input\")\n",
        "  layers= tf.keras.layers.Conv2D(128, (7, 7), activation='relu')(inputs)\n",
        "  layers = tf.keras.layers.MaxPool2D((2, 2))(layers)\n",
        "  layers= tf.keras.layers.Conv2D(64, (5, 5), activation='relu')(layers)\n",
        "  layers = tf.keras.layers.MaxPool2D((2, 2))(layers)\n",
        "  #layers= tf.keras.layers.Conv2D(32, (3, 3), activation='relu')(layers)\n",
        "  #layers = tf.keras.layers.MaxPool2D((2, 2))(layers)\n",
        "  layers = tf.keras.layers.Flatten()(layers)\n",
        "  layers = tf.keras.layers.Dense(16, activation='relu',kernel_regularizer=regularizers.l2(0.01))(layers)\n",
        "  #layers = tf.keras.layers.Dense(16, activation='relu')(layers)\n",
        "  layers = tf.keras.layers.Dropout(0.3)(layers)\n",
        "  predictions = tf.keras.layers.Dense(2, activation='softmax')(layers)\n",
        "  model = tf.keras.Model(inputs = inputs, outputs=predictions)\n",
        "  opt = tf.keras.optimizers.Adam(learning_rate=0.1)\n",
        "  if compile:\n",
        "    model.compile(optimizer=opt,loss='categorical_crossentropy',metrics=['accuracy'])\n",
        "\n",
        "  return model"
      ]
    },
    {
      "cell_type": "code",
      "execution_count": null,
      "metadata": {
        "id": "P7FkFJjwXXAq"
      },
      "outputs": [],
      "source": [
        "def get_conv1_model(data_size,compile=True):\n",
        "     inputs = tf.keras.Input(shape=data_size, name=\"input\")\n",
        "     layers = tf.keras.layers.Conv2D(64, (3, 3), activation='relu')(inputs)\n",
        "     layers=tf.keras.layers.Conv2D(64, (3, 3), activation='relu')(layers)\n",
        "     layers = tf.keras.layers.MaxPooling2D((2, 2),)(layers)\n",
        "\n",
        "     layers = tf.keras.layers.Conv2D(128, (3, 3), activation='relu', padding='same', name='block2_conv1')(layers)\n",
        "     layers = tf.keras.layers.MaxPooling2D((2, 2))(layers)\n",
        "\n",
        "     layers = tf.keras.layers.Conv2D(512, (3, 3), activation='relu')(layers)\n",
        "     layers = tf.keras.layers.Conv2D(512, (3, 3), activation='relu')(layers)\n",
        "     layers = tf.keras.layers.MaxPooling2D((2, 2))(layers)\n",
        "\n",
        "\n",
        "\n",
        "     layers = tf.keras.layers.Flatten()(layers)\n",
        "     #layers = tf.keras.layers.BatchNormalization()(layers)\n",
        "     layers = tf.keras.layers.Dense(64, activation='relu',kernel_regularizer=regularizers.l2(0.01))(layers)\n",
        "     layers = tf.keras.layers.Dropout(0.3)(layers)\n",
        "     predictions = tf.keras.layers.Dense(2, activation='softmax')(layers)\n",
        "     model = tf.keras.Model(inputs = inputs, outputs=predictions)\n",
        "     opt = tf.keras.optimizers.Adam(learning_rate=0.1)\n",
        "     if compile:\n",
        "      model.compile(optimizer=opt,loss='categorical_crossentropy',metrics=['accuracy'])\n",
        "     return model"
      ]
    },
    {
      "cell_type": "code",
      "execution_count": null,
      "metadata": {
        "id": "wqmPUc-6Mykq"
      },
      "outputs": [],
      "source": [
        "def get_conv2_model(data_size, compile=True):\n",
        "    model = Sequential()\n",
        "    model.add(Conv2D(128, (7, 7), activation='relu', input_shape=data_size))\n",
        "    model.add(MaxPooling2D((2, 2)))\n",
        "    model.add(Conv2D(64, (5, 5), activation='relu'))\n",
        "    model.add(MaxPooling2D((2, 2)))\n",
        "    model.add(Conv2D(32, (3, 3), activation='relu'))\n",
        "    model.add(MaxPooling2D((2, 2)))\n",
        "    #inputs = tf.keras.Input(shape=data_size, name=\"input\")\n",
        "    #layers= tf.keras.layers.Conv2D(128, (7, 7), activation='relu')(inputs)\n",
        "    #layers = tf.keras.layers.MaxPool2D((2, 2))(layers)\n",
        "    #layers= tf.keras.layers.Conv2D(64, (5, 5), activation='relu')(layers)\n",
        "    #layers = tf.keras.layers.MaxPool2D((2, 2))(layers)\n",
        "    #layers= tf.keras.layers.Conv2D(32, (3, 3), activation='relu')(layers)\n",
        "    #layers = tf.keras.layers.MaxPool2D((2, 2))(layers)\n",
        "    #layers = tf.keras.layers.Flatten()(layers)\n",
        "    #layers = tf.keras.layers.Dense(16, activation='relu',kernel_regularizer=regularizers.l2(0.01))(layers)\n",
        "    #layers = tf.keras.layers.Dense(16, activation='relu')(layers)\n",
        "    #layers = tf.keras.layers.Dropout(0.3)(layers)\n",
        "    #predictions = tf.keras.layers.Dense(2, activation='softmax')(layers)\n",
        "    #model = tf.keras.Model(inputs = inputs, outputs=predictions)\n",
        "    #loss_function = tf.keras.losses.BinaryCrossentropy()\n",
        "    model.add(Flatten())\n",
        "    model.add(Dense(64, activation='relu'))\n",
        "    model.add(Dropout(0.3))\n",
        "    model.add(Dense(2, activation='softmax'))\n",
        "    opt = tf.keras.optimizers.Adam(learning_rate=0.1)\n",
        "    if compile:\n",
        "        model.compile(optimizer=opt,loss='categorical_crossentropy',metrics=['accuracy'])\n",
        "\n",
        "    return model"
      ]
    },
    {
      "cell_type": "code",
      "source": [
        "model2 = get_conv1_model(data_size=(64, 64, 3),compile=True)\n",
        "model2.summary()"
      ],
      "metadata": {
        "id": "8oMlmKRMflQg",
        "colab": {
          "base_uri": "https://localhost:8080/"
        },
        "outputId": "d08ecc50-329e-4b59-f43d-3300fd39bbd1"
      },
      "execution_count": null,
      "outputs": [
        {
          "output_type": "stream",
          "name": "stdout",
          "text": [
            "Model: \"model\"\n",
            "_________________________________________________________________\n",
            " Layer (type)                Output Shape              Param #   \n",
            "=================================================================\n",
            " input (InputLayer)          [(None, 64, 64, 3)]       0         \n",
            "                                                                 \n",
            " conv2d (Conv2D)             (None, 62, 62, 64)        1792      \n",
            "                                                                 \n",
            " conv2d_1 (Conv2D)           (None, 60, 60, 64)        36928     \n",
            "                                                                 \n",
            " max_pooling2d (MaxPooling2D  (None, 30, 30, 64)       0         \n",
            " )                                                               \n",
            "                                                                 \n",
            " block2_conv1 (Conv2D)       (None, 30, 30, 128)       73856     \n",
            "                                                                 \n",
            " max_pooling2d_1 (MaxPooling  (None, 15, 15, 128)      0         \n",
            " 2D)                                                             \n",
            "                                                                 \n",
            " conv2d_2 (Conv2D)           (None, 13, 13, 512)       590336    \n",
            "                                                                 \n",
            " conv2d_3 (Conv2D)           (None, 11, 11, 512)       2359808   \n",
            "                                                                 \n",
            " max_pooling2d_2 (MaxPooling  (None, 5, 5, 512)        0         \n",
            " 2D)                                                             \n",
            "                                                                 \n",
            " flatten_1 (Flatten)         (None, 12800)             0         \n",
            "                                                                 \n",
            " dense_1 (Dense)             (None, 64)                819264    \n",
            "                                                                 \n",
            " dropout (Dropout)           (None, 64)                0         \n",
            "                                                                 \n",
            " dense_2 (Dense)             (None, 2)                 130       \n",
            "                                                                 \n",
            "=================================================================\n",
            "Total params: 3,882,114\n",
            "Trainable params: 3,882,114\n",
            "Non-trainable params: 0\n",
            "_________________________________________________________________\n"
          ]
        }
      ]
    },
    {
      "cell_type": "code",
      "execution_count": null,
      "metadata": {
        "colab": {
          "base_uri": "https://localhost:8080/"
        },
        "id": "chk_WyHVW7qQ",
        "outputId": "66888389-0f34-4149-a846-875d349f1bd4"
      },
      "outputs": [
        {
          "output_type": "stream",
          "name": "stdout",
          "text": [
            "Model: \"model_1\"\n",
            "_________________________________________________________________\n",
            " Layer (type)                Output Shape              Param #   \n",
            "=================================================================\n",
            " input (InputLayer)          [(None, 64, 64, 1)]       0         \n",
            "                                                                 \n",
            " conv2d_4 (Conv2D)           (None, 62, 62, 64)        640       \n",
            "                                                                 \n",
            " conv2d_5 (Conv2D)           (None, 60, 60, 64)        36928     \n",
            "                                                                 \n",
            " max_pooling2d_3 (MaxPooling  (None, 30, 30, 64)       0         \n",
            " 2D)                                                             \n",
            "                                                                 \n",
            " block2_conv1 (Conv2D)       (None, 30, 30, 128)       73856     \n",
            "                                                                 \n",
            " max_pooling2d_4 (MaxPooling  (None, 15, 15, 128)      0         \n",
            " 2D)                                                             \n",
            "                                                                 \n",
            " conv2d_6 (Conv2D)           (None, 13, 13, 512)       590336    \n",
            "                                                                 \n",
            " conv2d_7 (Conv2D)           (None, 11, 11, 512)       2359808   \n",
            "                                                                 \n",
            " max_pooling2d_5 (MaxPooling  (None, 5, 5, 512)        0         \n",
            " 2D)                                                             \n",
            "                                                                 \n",
            " flatten_1 (Flatten)         (None, 12800)             0         \n",
            "                                                                 \n",
            " batch_normalization_1 (Batc  (None, 12800)            51200     \n",
            " hNormalization)                                                 \n",
            "                                                                 \n",
            " dense_2 (Dense)             (None, 64)                819264    \n",
            "                                                                 \n",
            " dropout_1 (Dropout)         (None, 64)                0         \n",
            "                                                                 \n",
            " dense_3 (Dense)             (None, 2)                 130       \n",
            "                                                                 \n",
            "=================================================================\n",
            "Total params: 3,932,162\n",
            "Trainable params: 3,906,562\n",
            "Non-trainable params: 25,600\n",
            "_________________________________________________________________\n"
          ]
        }
      ],
      "source": [
        "model = get_conv1_model(data_size=(64, 64, 3),compile=True)\n",
        "model.summary()"
      ]
    },
    {
      "cell_type": "code",
      "source": [
        "model2.fit(train_generator, epochs=10,validation_data=test_generator)\n",
        "# Evaluar el modelo en el conjunto de prueba\n",
        "loss, accuracy = model2.evaluate(test_generator)"
      ],
      "metadata": {
        "id": "Rsp5s2RxRqUf",
        "colab": {
          "base_uri": "https://localhost:8080/",
          "height": 380
        },
        "outputId": "33708069-c108-4ae9-f4b5-b38dcb0f990f"
      },
      "execution_count": null,
      "outputs": [
        {
          "output_type": "stream",
          "name": "stdout",
          "text": [
            "Epoch 1/10\n"
          ]
        },
        {
          "output_type": "error",
          "ename": "KeyboardInterrupt",
          "evalue": "ignored",
          "traceback": [
            "\u001b[0;31m---------------------------------------------------------------------------\u001b[0m",
            "\u001b[0;31mKeyboardInterrupt\u001b[0m                         Traceback (most recent call last)",
            "\u001b[0;32m<ipython-input-49-2c8cec9491f4>\u001b[0m in \u001b[0;36m<cell line: 1>\u001b[0;34m()\u001b[0m\n\u001b[0;32m----> 1\u001b[0;31m \u001b[0mmodel2\u001b[0m\u001b[0;34m.\u001b[0m\u001b[0mfit\u001b[0m\u001b[0;34m(\u001b[0m\u001b[0mtrain_generator\u001b[0m\u001b[0;34m,\u001b[0m \u001b[0mepochs\u001b[0m\u001b[0;34m=\u001b[0m\u001b[0;36m10\u001b[0m\u001b[0;34m,\u001b[0m\u001b[0mvalidation_data\u001b[0m\u001b[0;34m=\u001b[0m\u001b[0mtest_generator\u001b[0m\u001b[0;34m)\u001b[0m\u001b[0;34m\u001b[0m\u001b[0;34m\u001b[0m\u001b[0m\n\u001b[0m\u001b[1;32m      2\u001b[0m \u001b[0;31m# Evaluar el modelo en el conjunto de prueba\u001b[0m\u001b[0;34m\u001b[0m\u001b[0;34m\u001b[0m\u001b[0m\n\u001b[1;32m      3\u001b[0m \u001b[0mloss\u001b[0m\u001b[0;34m,\u001b[0m \u001b[0maccuracy\u001b[0m \u001b[0;34m=\u001b[0m \u001b[0mmodel2\u001b[0m\u001b[0;34m.\u001b[0m\u001b[0mevaluate\u001b[0m\u001b[0;34m(\u001b[0m\u001b[0mtest_generator\u001b[0m\u001b[0;34m)\u001b[0m\u001b[0;34m\u001b[0m\u001b[0;34m\u001b[0m\u001b[0m\n",
            "\u001b[0;32m/usr/local/lib/python3.10/dist-packages/keras/utils/traceback_utils.py\u001b[0m in \u001b[0;36merror_handler\u001b[0;34m(*args, **kwargs)\u001b[0m\n\u001b[1;32m     63\u001b[0m         \u001b[0mfiltered_tb\u001b[0m \u001b[0;34m=\u001b[0m \u001b[0;32mNone\u001b[0m\u001b[0;34m\u001b[0m\u001b[0;34m\u001b[0m\u001b[0m\n\u001b[1;32m     64\u001b[0m         \u001b[0;32mtry\u001b[0m\u001b[0;34m:\u001b[0m\u001b[0;34m\u001b[0m\u001b[0;34m\u001b[0m\u001b[0m\n\u001b[0;32m---> 65\u001b[0;31m             \u001b[0;32mreturn\u001b[0m \u001b[0mfn\u001b[0m\u001b[0;34m(\u001b[0m\u001b[0;34m*\u001b[0m\u001b[0margs\u001b[0m\u001b[0;34m,\u001b[0m \u001b[0;34m**\u001b[0m\u001b[0mkwargs\u001b[0m\u001b[0;34m)\u001b[0m\u001b[0;34m\u001b[0m\u001b[0;34m\u001b[0m\u001b[0m\n\u001b[0m\u001b[1;32m     66\u001b[0m         \u001b[0;32mexcept\u001b[0m \u001b[0mException\u001b[0m \u001b[0;32mas\u001b[0m \u001b[0me\u001b[0m\u001b[0;34m:\u001b[0m\u001b[0;34m\u001b[0m\u001b[0;34m\u001b[0m\u001b[0m\n\u001b[1;32m     67\u001b[0m             \u001b[0mfiltered_tb\u001b[0m \u001b[0;34m=\u001b[0m \u001b[0m_process_traceback_frames\u001b[0m\u001b[0;34m(\u001b[0m\u001b[0me\u001b[0m\u001b[0;34m.\u001b[0m\u001b[0m__traceback__\u001b[0m\u001b[0;34m)\u001b[0m\u001b[0;34m\u001b[0m\u001b[0;34m\u001b[0m\u001b[0m\n",
            "\u001b[0;32m/usr/local/lib/python3.10/dist-packages/keras/engine/training.py\u001b[0m in \u001b[0;36mfit\u001b[0;34m(self, x, y, batch_size, epochs, verbose, callbacks, validation_split, validation_data, shuffle, class_weight, sample_weight, initial_epoch, steps_per_epoch, validation_steps, validation_batch_size, validation_freq, max_queue_size, workers, use_multiprocessing)\u001b[0m\n\u001b[1;32m   1683\u001b[0m                         ):\n\u001b[1;32m   1684\u001b[0m                             \u001b[0mcallbacks\u001b[0m\u001b[0;34m.\u001b[0m\u001b[0mon_train_batch_begin\u001b[0m\u001b[0;34m(\u001b[0m\u001b[0mstep\u001b[0m\u001b[0;34m)\u001b[0m\u001b[0;34m\u001b[0m\u001b[0;34m\u001b[0m\u001b[0m\n\u001b[0;32m-> 1685\u001b[0;31m                             \u001b[0mtmp_logs\u001b[0m \u001b[0;34m=\u001b[0m \u001b[0mself\u001b[0m\u001b[0;34m.\u001b[0m\u001b[0mtrain_function\u001b[0m\u001b[0;34m(\u001b[0m\u001b[0miterator\u001b[0m\u001b[0;34m)\u001b[0m\u001b[0;34m\u001b[0m\u001b[0;34m\u001b[0m\u001b[0m\n\u001b[0m\u001b[1;32m   1686\u001b[0m                             \u001b[0;32mif\u001b[0m \u001b[0mdata_handler\u001b[0m\u001b[0;34m.\u001b[0m\u001b[0mshould_sync\u001b[0m\u001b[0;34m:\u001b[0m\u001b[0;34m\u001b[0m\u001b[0;34m\u001b[0m\u001b[0m\n\u001b[1;32m   1687\u001b[0m                                 \u001b[0mcontext\u001b[0m\u001b[0;34m.\u001b[0m\u001b[0masync_wait\u001b[0m\u001b[0;34m(\u001b[0m\u001b[0;34m)\u001b[0m\u001b[0;34m\u001b[0m\u001b[0;34m\u001b[0m\u001b[0m\n",
            "\u001b[0;32m/usr/local/lib/python3.10/dist-packages/tensorflow/python/util/traceback_utils.py\u001b[0m in \u001b[0;36merror_handler\u001b[0;34m(*args, **kwargs)\u001b[0m\n\u001b[1;32m    148\u001b[0m     \u001b[0mfiltered_tb\u001b[0m \u001b[0;34m=\u001b[0m \u001b[0;32mNone\u001b[0m\u001b[0;34m\u001b[0m\u001b[0;34m\u001b[0m\u001b[0m\n\u001b[1;32m    149\u001b[0m     \u001b[0;32mtry\u001b[0m\u001b[0;34m:\u001b[0m\u001b[0;34m\u001b[0m\u001b[0;34m\u001b[0m\u001b[0m\n\u001b[0;32m--> 150\u001b[0;31m       \u001b[0;32mreturn\u001b[0m \u001b[0mfn\u001b[0m\u001b[0;34m(\u001b[0m\u001b[0;34m*\u001b[0m\u001b[0margs\u001b[0m\u001b[0;34m,\u001b[0m \u001b[0;34m**\u001b[0m\u001b[0mkwargs\u001b[0m\u001b[0;34m)\u001b[0m\u001b[0;34m\u001b[0m\u001b[0;34m\u001b[0m\u001b[0m\n\u001b[0m\u001b[1;32m    151\u001b[0m     \u001b[0;32mexcept\u001b[0m \u001b[0mException\u001b[0m \u001b[0;32mas\u001b[0m \u001b[0me\u001b[0m\u001b[0;34m:\u001b[0m\u001b[0;34m\u001b[0m\u001b[0;34m\u001b[0m\u001b[0m\n\u001b[1;32m    152\u001b[0m       \u001b[0mfiltered_tb\u001b[0m \u001b[0;34m=\u001b[0m \u001b[0m_process_traceback_frames\u001b[0m\u001b[0;34m(\u001b[0m\u001b[0me\u001b[0m\u001b[0;34m.\u001b[0m\u001b[0m__traceback__\u001b[0m\u001b[0;34m)\u001b[0m\u001b[0;34m\u001b[0m\u001b[0;34m\u001b[0m\u001b[0m\n",
            "\u001b[0;32m/usr/local/lib/python3.10/dist-packages/tensorflow/python/eager/polymorphic_function/polymorphic_function.py\u001b[0m in \u001b[0;36m__call__\u001b[0;34m(self, *args, **kwds)\u001b[0m\n\u001b[1;32m    892\u001b[0m \u001b[0;34m\u001b[0m\u001b[0m\n\u001b[1;32m    893\u001b[0m       \u001b[0;32mwith\u001b[0m \u001b[0mOptionalXlaContext\u001b[0m\u001b[0;34m(\u001b[0m\u001b[0mself\u001b[0m\u001b[0;34m.\u001b[0m\u001b[0m_jit_compile\u001b[0m\u001b[0;34m)\u001b[0m\u001b[0;34m:\u001b[0m\u001b[0;34m\u001b[0m\u001b[0;34m\u001b[0m\u001b[0m\n\u001b[0;32m--> 894\u001b[0;31m         \u001b[0mresult\u001b[0m \u001b[0;34m=\u001b[0m \u001b[0mself\u001b[0m\u001b[0;34m.\u001b[0m\u001b[0m_call\u001b[0m\u001b[0;34m(\u001b[0m\u001b[0;34m*\u001b[0m\u001b[0margs\u001b[0m\u001b[0;34m,\u001b[0m \u001b[0;34m**\u001b[0m\u001b[0mkwds\u001b[0m\u001b[0;34m)\u001b[0m\u001b[0;34m\u001b[0m\u001b[0;34m\u001b[0m\u001b[0m\n\u001b[0m\u001b[1;32m    895\u001b[0m \u001b[0;34m\u001b[0m\u001b[0m\n\u001b[1;32m    896\u001b[0m       \u001b[0mnew_tracing_count\u001b[0m \u001b[0;34m=\u001b[0m \u001b[0mself\u001b[0m\u001b[0;34m.\u001b[0m\u001b[0mexperimental_get_tracing_count\u001b[0m\u001b[0;34m(\u001b[0m\u001b[0;34m)\u001b[0m\u001b[0;34m\u001b[0m\u001b[0;34m\u001b[0m\u001b[0m\n",
            "\u001b[0;32m/usr/local/lib/python3.10/dist-packages/tensorflow/python/eager/polymorphic_function/polymorphic_function.py\u001b[0m in \u001b[0;36m_call\u001b[0;34m(self, *args, **kwds)\u001b[0m\n\u001b[1;32m    957\u001b[0m         \u001b[0;31m# Lifting succeeded, so variables are initialized and we can run the\u001b[0m\u001b[0;34m\u001b[0m\u001b[0;34m\u001b[0m\u001b[0m\n\u001b[1;32m    958\u001b[0m         \u001b[0;31m# no_variable_creation function.\u001b[0m\u001b[0;34m\u001b[0m\u001b[0;34m\u001b[0m\u001b[0m\n\u001b[0;32m--> 959\u001b[0;31m         \u001b[0;32mreturn\u001b[0m \u001b[0mself\u001b[0m\u001b[0;34m.\u001b[0m\u001b[0m_no_variable_creation_fn\u001b[0m\u001b[0;34m(\u001b[0m\u001b[0;34m*\u001b[0m\u001b[0margs\u001b[0m\u001b[0;34m,\u001b[0m \u001b[0;34m**\u001b[0m\u001b[0mkwds\u001b[0m\u001b[0;34m)\u001b[0m\u001b[0;34m\u001b[0m\u001b[0;34m\u001b[0m\u001b[0m\n\u001b[0m\u001b[1;32m    960\u001b[0m     \u001b[0;32melse\u001b[0m\u001b[0;34m:\u001b[0m\u001b[0;34m\u001b[0m\u001b[0;34m\u001b[0m\u001b[0m\n\u001b[1;32m    961\u001b[0m       _, _, filtered_flat_args = (\n",
            "\u001b[0;32m/usr/local/lib/python3.10/dist-packages/tensorflow/python/eager/polymorphic_function/tracing_compiler.py\u001b[0m in \u001b[0;36m__call__\u001b[0;34m(self, *args, **kwargs)\u001b[0m\n\u001b[1;32m    141\u001b[0m       (concrete_function,\n\u001b[1;32m    142\u001b[0m        filtered_flat_args) = self._maybe_define_function(args, kwargs)\n\u001b[0;32m--> 143\u001b[0;31m     return concrete_function._call_flat(\n\u001b[0m\u001b[1;32m    144\u001b[0m         filtered_flat_args, captured_inputs=concrete_function.captured_inputs)  # pylint: disable=protected-access\n\u001b[1;32m    145\u001b[0m \u001b[0;34m\u001b[0m\u001b[0m\n",
            "\u001b[0;32m/usr/local/lib/python3.10/dist-packages/tensorflow/python/eager/polymorphic_function/monomorphic_function.py\u001b[0m in \u001b[0;36m_call_flat\u001b[0;34m(self, args, captured_inputs, cancellation_manager)\u001b[0m\n\u001b[1;32m   1755\u001b[0m         and executing_eagerly):\n\u001b[1;32m   1756\u001b[0m       \u001b[0;31m# No tape is watching; skip to running the function.\u001b[0m\u001b[0;34m\u001b[0m\u001b[0;34m\u001b[0m\u001b[0m\n\u001b[0;32m-> 1757\u001b[0;31m       return self._build_call_outputs(self._inference_function.call(\n\u001b[0m\u001b[1;32m   1758\u001b[0m           ctx, args, cancellation_manager=cancellation_manager))\n\u001b[1;32m   1759\u001b[0m     forward_backward = self._select_forward_and_backward_functions(\n",
            "\u001b[0;32m/usr/local/lib/python3.10/dist-packages/tensorflow/python/eager/polymorphic_function/monomorphic_function.py\u001b[0m in \u001b[0;36mcall\u001b[0;34m(self, ctx, args, cancellation_manager)\u001b[0m\n\u001b[1;32m    379\u001b[0m       \u001b[0;32mwith\u001b[0m \u001b[0m_InterpolateFunctionError\u001b[0m\u001b[0;34m(\u001b[0m\u001b[0mself\u001b[0m\u001b[0;34m)\u001b[0m\u001b[0;34m:\u001b[0m\u001b[0;34m\u001b[0m\u001b[0;34m\u001b[0m\u001b[0m\n\u001b[1;32m    380\u001b[0m         \u001b[0;32mif\u001b[0m \u001b[0mcancellation_manager\u001b[0m \u001b[0;32mis\u001b[0m \u001b[0;32mNone\u001b[0m\u001b[0;34m:\u001b[0m\u001b[0;34m\u001b[0m\u001b[0;34m\u001b[0m\u001b[0m\n\u001b[0;32m--> 381\u001b[0;31m           outputs = execute.execute(\n\u001b[0m\u001b[1;32m    382\u001b[0m               \u001b[0mstr\u001b[0m\u001b[0;34m(\u001b[0m\u001b[0mself\u001b[0m\u001b[0;34m.\u001b[0m\u001b[0msignature\u001b[0m\u001b[0;34m.\u001b[0m\u001b[0mname\u001b[0m\u001b[0;34m)\u001b[0m\u001b[0;34m,\u001b[0m\u001b[0;34m\u001b[0m\u001b[0;34m\u001b[0m\u001b[0m\n\u001b[1;32m    383\u001b[0m               \u001b[0mnum_outputs\u001b[0m\u001b[0;34m=\u001b[0m\u001b[0mself\u001b[0m\u001b[0;34m.\u001b[0m\u001b[0m_num_outputs\u001b[0m\u001b[0;34m,\u001b[0m\u001b[0;34m\u001b[0m\u001b[0;34m\u001b[0m\u001b[0m\n",
            "\u001b[0;32m/usr/local/lib/python3.10/dist-packages/tensorflow/python/eager/execute.py\u001b[0m in \u001b[0;36mquick_execute\u001b[0;34m(op_name, num_outputs, inputs, attrs, ctx, name)\u001b[0m\n\u001b[1;32m     50\u001b[0m   \u001b[0;32mtry\u001b[0m\u001b[0;34m:\u001b[0m\u001b[0;34m\u001b[0m\u001b[0;34m\u001b[0m\u001b[0m\n\u001b[1;32m     51\u001b[0m     \u001b[0mctx\u001b[0m\u001b[0;34m.\u001b[0m\u001b[0mensure_initialized\u001b[0m\u001b[0;34m(\u001b[0m\u001b[0;34m)\u001b[0m\u001b[0;34m\u001b[0m\u001b[0;34m\u001b[0m\u001b[0m\n\u001b[0;32m---> 52\u001b[0;31m     tensors = pywrap_tfe.TFE_Py_Execute(ctx._handle, device_name, op_name,\n\u001b[0m\u001b[1;32m     53\u001b[0m                                         inputs, attrs, num_outputs)\n\u001b[1;32m     54\u001b[0m   \u001b[0;32mexcept\u001b[0m \u001b[0mcore\u001b[0m\u001b[0;34m.\u001b[0m\u001b[0m_NotOkStatusException\u001b[0m \u001b[0;32mas\u001b[0m \u001b[0me\u001b[0m\u001b[0;34m:\u001b[0m\u001b[0;34m\u001b[0m\u001b[0;34m\u001b[0m\u001b[0m\n",
            "\u001b[0;31mKeyboardInterrupt\u001b[0m: "
          ]
        }
      ]
    },
    {
      "cell_type": "code",
      "execution_count": null,
      "metadata": {
        "colab": {
          "base_uri": "https://localhost:8080/"
        },
        "id": "WCo-qGMPc8Z4",
        "outputId": "c83f58e6-827f-417a-d5c8-14a20a33a7fb"
      },
      "outputs": [
        {
          "output_type": "stream",
          "name": "stdout",
          "text": [
            "Epoch 1/10\n",
            "15/15 [==============================] - 1538s 102s/step - loss: 198.7582 - accuracy: 0.5051 - val_loss: 42566116.0000 - val_accuracy: 0.5178\n",
            "Epoch 2/10\n",
            "15/15 [==============================] - 1574s 105s/step - loss: 58.4219 - accuracy: 0.4995 - val_loss: 55.9541 - val_accuracy: 0.5226\n",
            "Epoch 3/10\n",
            "15/15 [==============================] - 1566s 105s/step - loss: 42.3695 - accuracy: 0.5018 - val_loss: 193.6935 - val_accuracy: 0.4685\n",
            "Epoch 4/10\n",
            "15/15 [==============================] - 1559s 104s/step - loss: 67.8071 - accuracy: 0.5004 - val_loss: 129.4557 - val_accuracy: 0.5154\n",
            "Epoch 5/10\n",
            "15/15 [==============================] - 1563s 105s/step - loss: 56.1958 - accuracy: 0.5084 - val_loss: 71.3141 - val_accuracy: 0.5172\n",
            "Epoch 6/10\n",
            "15/15 [==============================] - 1528s 102s/step - loss: 50.1668 - accuracy: 0.5053 - val_loss: 96.2390 - val_accuracy: 0.4574\n",
            "Epoch 7/10\n",
            "15/15 [==============================] - 1570s 105s/step - loss: 52.3025 - accuracy: 0.5039 - val_loss: 40.4544 - val_accuracy: 0.5391\n",
            "Epoch 8/10\n",
            "15/15 [==============================] - 1569s 105s/step - loss: 43.3246 - accuracy: 0.5059 - val_loss: 59.6523 - val_accuracy: 0.4873\n",
            "Epoch 9/10\n",
            "15/15 [==============================] - 1570s 105s/step - loss: 43.2101 - accuracy: 0.5140 - val_loss: 59.1867 - val_accuracy: 0.5501\n",
            "Epoch 10/10\n",
            "15/15 [==============================] - 1567s 105s/step - loss: 49.1128 - accuracy: 0.5092 - val_loss: 34.3699 - val_accuracy: 0.4537\n",
            "4/4 [==============================] - 98s 24s/step - loss: 34.3699 - accuracy: 0.4537\n"
          ]
        }
      ],
      "source": [
        "model.fit(train_generator, epochs=10,validation_data=test_generator)\n",
        "# Evaluar el modelo en el conjunto de prueba\n",
        "loss, accuracy = model.evaluate(test_generator)\n"
      ]
    },
    {
      "cell_type": "code",
      "execution_count": null,
      "metadata": {
        "colab": {
          "base_uri": "https://localhost:8080/"
        },
        "id": "C7mP8qFz69DL",
        "outputId": "b0f74c73-0f96-4bbd-9c00-9f20e8394cf1"
      },
      "outputs": [
        {
          "output_type": "stream",
          "name": "stdout",
          "text": [
            "4/4 [==============================] - 109s 23s/step\n"
          ]
        }
      ],
      "source": [
        "pred = model.predict(test_generator)\n",
        "y_true = test_generator.labels\n",
        "y_pred_labels = np.argmax(pred, axis=1)"
      ]
    },
    {
      "cell_type": "code",
      "source": [
        "y_pred_labels[0:5]"
      ],
      "metadata": {
        "colab": {
          "base_uri": "https://localhost:8080/"
        },
        "id": "hdpSIIzJPfSf",
        "outputId": "e9507cb2-bb15-402d-d443-8579d3ad9bfb"
      },
      "execution_count": null,
      "outputs": [
        {
          "output_type": "execute_result",
          "data": {
            "text/plain": [
              "array([1, 0, 1, 1, 1])"
            ]
          },
          "metadata": {},
          "execution_count": 34
        }
      ]
    },
    {
      "cell_type": "code",
      "execution_count": null,
      "metadata": {
        "colab": {
          "base_uri": "https://localhost:8080/"
        },
        "id": "i6xjZnVx7HEE",
        "outputId": "60383ca4-403a-4df0-b4f1-1351f3e104df"
      },
      "outputs": [
        {
          "output_type": "stream",
          "name": "stdout",
          "text": [
            "              precision    recall  f1-score   support\n",
            "\n",
            "           0       0.42      0.14      0.21      1920\n",
            "           1       0.46      0.79      0.58      1792\n",
            "\n",
            "    accuracy                           0.45      3712\n",
            "   macro avg       0.44      0.46      0.40      3712\n",
            "weighted avg       0.44      0.45      0.39      3712\n",
            "\n"
          ]
        }
      ],
      "source": [
        "report = classification_report(y_true, y_pred_labels)\n",
        "print(report)"
      ]
    },
    {
      "cell_type": "code",
      "execution_count": null,
      "metadata": {
        "id": "w4fOENAJ7by1"
      },
      "outputs": [],
      "source": [
        "cm = confusion_matrix(y_true, y_pred_labels)"
      ]
    },
    {
      "cell_type": "code",
      "execution_count": null,
      "metadata": {
        "colab": {
          "base_uri": "https://localhost:8080/",
          "height": 449
        },
        "id": "QUgltWFj7qGh",
        "outputId": "05396855-917f-4858-c147-2ec599d69038"
      },
      "outputs": [
        {
          "data": {
            "image/png": "[encoded data removed]",
            "text/plain": [
              "<Figure size 640x480 with 2 Axes>"
            ]
          },
          "metadata": {},
          "output_type": "display_data"
        }
      ],
      "source": [
        "sns.heatmap(cm, annot=True, fmt=\"d\", cmap=\"Blues\", xticklabels=classes, yticklabels=classes)\n",
        "plt.xlabel('Predicted labels')\n",
        "plt.ylabel('True labels')\n",
        "plt.show()"
      ]
    }
  ],
  "metadata": {
    "accelerator": "TPU",
    "colab": {
      "provenance": [],
      "authorship_tag": "ABX9TyO0IYNRvYI/49Gs1dRWZtUE",
      "include_colab_link": true
    },
    "kernelspec": {
      "display_name": "Python 3",
      "name": "python3"
    },
    "language_info": {
      "name": "python"
    }
  },
  "nbformat": 4,
  "nbformat_minor": 0
}